{
 "cells": [
  {
   "cell_type": "markdown",
   "metadata": {},
   "source": [
    "# Legitimize probabilties:\n",
    "\n",
    "The probabilities we're currently using right now (particularly in the zoomed-in 1000x1000 analysis) are a mess: they are normalized within the 1000x1000 window rather than over the entire corpus; I don't know what the marginal distribution really should be; etc. In this notebook I'll write down some conventions to use in the future."
   ]
  },
  {
   "cell_type": "markdown",
   "metadata": {},
   "source": [
    "w.r.t. individual lexical probability we have two choices:\n",
    "1. `p(a) = {#(a) / |A|}` ... meaning, we normalize adj. freq by size of the adjective class\n",
    "2. `p(a) = {#(a) / |corpus|}` ... meaning, we normalize by the total size of the corpus (# tokens)\n",
    "\n",
    "with [2], `p(a)` and `p(n)` would share a common denominator, and be comparable (this is a plus!)"
   ]
  },
  {
   "cell_type": "markdown",
   "metadata": {},
   "source": [
    "w.r.t joint probability, we have co-occurrence data $f_{ij} = \\#(a_i n_j)$.\n",
    "$$p(a_i n_j) = \\frac{ \\#(a_i n_j) }{\n",
    "    \\sum_{j=1}^{|N|} \\sum_{i=1}^{|A|} \\#(a_i n_j)\n",
    "}$$\n",
    "\n",
    "what is this the probability of? this is the probability of encountering Adj-N pair $a_in_j$ \n",
    "among all possible Adj-N pairs.\n",
    "\n"
   ]
  },
  {
   "cell_type": "markdown",
   "metadata": {},
   "source": [
    "it is also true that\n",
    "$$\n",
    "p(a_in_j) \\;\\; \\propto \\;\\; \\#(a_in_j)\n",
    "$$\n",
    "because the denominator is common for each pair. so normalizing within our subset of interest was fine.\n",
    "\n",
    "Let \n",
    "$T = \\sum_{j=1}^{|N|} \\sum_{i=1}^{|A|} \\#(a_i n_j)$,\n",
    "and\n",
    "$T' = \\sum_{j=1}^{1000} \\sum_{i=1}^{1000} \\#(a_i n_j)$\n",
    "\n",
    "then \n",
    "$$\n",
    "p(a_i n_j) =  \\frac{\\#(a_i n_j)}{T'} \\cdot \\frac{T'}{T} = p'(a_in_j) \\frac{T'}{T}\n",
    "$$\n",
    "\n",
    "however: how does this change conditional probabilities?"
   ]
  },
  {
   "cell_type": "markdown",
   "metadata": {},
   "source": [
    "$$\n",
    "p(n_j | a_i) = \\frac{\n",
    "    \\#(a_i n_j)\n",
    "}{\n",
    "    \\sum_{j'=1}^{|N|} \\#(a_in_{j'})\n",
    "}\n",
    "=\n",
    "\\frac{p(a_in_j)}{p(a_i)} = \\frac{p'(a_in_j)}{p(a_i)}\\frac{T'}{T}\n",
    "$$"
   ]
  },
  {
   "cell_type": "code",
   "execution_count": null,
   "metadata": {
    "vscode": {
     "languageId": "plaintext"
    }
   },
   "outputs": [],
   "source": []
  }
 ],
 "metadata": {
  "language_info": {
   "name": "python"
  }
 },
 "nbformat": 4,
 "nbformat_minor": 2
}
