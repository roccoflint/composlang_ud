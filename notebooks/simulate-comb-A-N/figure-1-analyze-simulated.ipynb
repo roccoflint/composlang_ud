{
 "cells": [
  {
   "cell_type": "code",
   "execution_count": 116,
   "metadata": {},
   "outputs": [],
   "source": [
    "import pickle\n",
    "import pandas as pd\n",
    "import numpy as np\n",
    "from tqdm.auto import tqdm\n",
    "from matplotlib import pyplot as plt\n",
    "import seaborn as sns\n",
    "from matplotlib.colors import LogNorm\n",
    "from matplotlib import colors\n",
    "import torch\n",
    "from scipy.stats import entropy\n",
    "import sparse\n",
    "from scipy.special import logsumexp\n",
    "\n",
    "import composlang\n",
    "from composlang.utils import minmax, JointDist"
   ]
  },
  {
   "cell_type": "code",
   "execution_count": 2,
   "metadata": {},
   "outputs": [],
   "source": [
    "comp = pd.read_pickle(\"./comp.pkl\")"
   ]
  },
  {
   "cell_type": "code",
   "execution_count": 3,
   "metadata": {},
   "outputs": [
    {
     "data": {
      "text/plain": [
       "['bipartite_layout',\n",
       " 'child_df',\n",
       " 'child_upos',\n",
       " 'compute_combinations',\n",
       " 'compute_entropy',\n",
       " 'compute_pmi',\n",
       " 'generate_adjacency_matrix',\n",
       " 'generate_combinations',\n",
       " 'inspect_neighborhood',\n",
       " 'matrix',\n",
       " 'n_tokens',\n",
       " 'pair_df',\n",
       " 'pair_stats',\n",
       " 'parent_df',\n",
       " 'parent_upos',\n",
       " 'read_csv',\n",
       " 'run_analyses',\n",
       " 'sample_combinations',\n",
       " 'to_csv',\n",
       " 'token_stats']"
      ]
     },
     "execution_count": 3,
     "metadata": {},
     "output_type": "execute_result"
    }
   ],
   "source": [
    "[k for k in dir(comp) if k[0] != \"_\"]"
   ]
  },
  {
   "cell_type": "code",
   "execution_count": 4,
   "metadata": {},
   "outputs": [
    {
     "data": {
      "text/plain": [
       "592974127"
      ]
     },
     "execution_count": 4,
     "metadata": {},
     "output_type": "execute_result"
    }
   ],
   "source": [
    "comp.n_tokens"
   ]
  },
  {
   "cell_type": "code",
   "execution_count": 5,
   "metadata": {},
   "outputs": [
    {
     "data": {
      "text/plain": [
       "25178311"
      ]
     },
     "execution_count": 5,
     "metadata": {},
     "output_type": "execute_result"
    }
   ],
   "source": [
    "comp.pair_df.freq.sum()"
   ]
  },
  {
   "cell_type": "code",
   "execution_count": 7,
   "metadata": {},
   "outputs": [
    {
     "name": "stdout",
     "output_type": "stream",
     "text": [
      "25,178,311\n"
     ]
    }
   ],
   "source": [
    "adj_ids = np.arange(len(comp.child_df))\n",
    "adj_ps = comp.child_df.freq\n",
    "noun_ids = np.arange(len(comp.parent_df))\n",
    "noun_ps = comp.parent_df.freq\n",
    "m = comp.pair_df.freq.sum()\n",
    "print(f\"{m:,}\")"
   ]
  },
  {
   "cell_type": "code",
   "execution_count": 8,
   "metadata": {},
   "outputs": [
    {
     "data": {
      "application/json": {
       "ascii": false,
       "bar_format": null,
       "colour": null,
       "elapsed": 0.010686874389648438,
       "initial": 0,
       "n": 0,
       "ncols": null,
       "nrows": null,
       "postfix": null,
       "prefix": "",
       "rate": null,
       "total": 100,
       "unit": "it",
       "unit_divisor": 1000,
       "unit_scale": false
      },
      "application/vnd.jupyter.widget-view+json": {
       "model_id": "307540c4a9f643bea01b15aaf7cae3f9",
       "version_major": 2,
       "version_minor": 0
      },
      "text/plain": [
       "  0%|          | 0/100 [00:00<?, ?it/s]"
      ]
     },
     "metadata": {},
     "output_type": "display_data"
    },
    {
     "name": "stdout",
     "output_type": "stream",
     "text": [
      "8979778\n",
      "8979051\n",
      "8977732\n",
      "8978918\n",
      "8976379\n",
      "8974431\n",
      "8976425\n",
      "8973869\n",
      "8976156\n",
      "8975202\n",
      "8977811\n",
      "8977873\n",
      "8976793\n",
      "8976327\n",
      "8975294\n",
      "8972865\n",
      "8977452\n",
      "8975151\n",
      "8976578\n",
      "8975574\n",
      "8974641\n",
      "8976676\n",
      "8975262\n",
      "8971158\n",
      "8972193\n",
      "8978237\n",
      "8978441\n",
      "8976288\n",
      "8975159\n",
      "8976848\n",
      "8976972\n",
      "8978151\n",
      "8976200\n",
      "8977178\n",
      "8975128\n",
      "8974848\n",
      "8977366\n",
      "8979224\n",
      "8976248\n",
      "8978015\n",
      "8973662\n",
      "8976308\n",
      "8973322\n",
      "8976649\n",
      "8975528\n",
      "8975799\n",
      "8974832\n",
      "8972782\n",
      "8976380\n",
      "8975973\n",
      "8979680\n",
      "8978766\n",
      "8979510\n",
      "8973775\n",
      "8975730\n",
      "8976851\n",
      "8975063\n",
      "8977025\n",
      "8977187\n",
      "8979036\n",
      "8977550\n",
      "8977209\n",
      "8975322\n",
      "8976437\n",
      "8975240\n",
      "8976219\n",
      "8978026\n",
      "8977438\n",
      "8975390\n",
      "8976662\n",
      "8977710\n",
      "8975936\n",
      "8976185\n",
      "8975966\n",
      "8974742\n",
      "8976596\n",
      "8978421\n",
      "8974021\n",
      "8974186\n",
      "8976019\n",
      "8979559\n",
      "8974943\n",
      "8975407\n",
      "8978354\n",
      "8978636\n",
      "8979451\n",
      "8974824\n",
      "8975200\n",
      "8976245\n",
      "8976151\n",
      "8976101\n",
      "8974204\n",
      "8976526\n",
      "8975077\n",
      "8977431\n",
      "8978655\n",
      "8973390\n",
      "8974718\n",
      "8976235\n",
      "8974580\n"
     ]
    }
   ],
   "source": [
    "num_unique_pairs = []\n",
    "for _ in tqdm([*range(100)]):\n",
    "    unique_pairs = set()\n",
    "    batch_size = 2**16\n",
    "    total_draws = 0\n",
    "    for i in [*range(0, m, batch_size)]:\n",
    "        sample_size = min(batch_size, m - i)\n",
    "        total_draws += sample_size\n",
    "        adj_ids_choice = np.random.choice(\n",
    "            adj_ids, sample_size, p=adj_ps / adj_ps.sum(), replace=True\n",
    "        )\n",
    "        noun_ids_choice = np.random.choice(\n",
    "            noun_ids, sample_size, p=noun_ps / noun_ps.sum(), replace=True\n",
    "        )\n",
    "        unique_pairs.update(set(zip(adj_ids_choice, noun_ids_choice)))\n",
    "\n",
    "    print(len(unique_pairs))\n",
    "    num_unique_pairs += [len(unique_pairs)]"
   ]
  },
  {
   "cell_type": "code",
   "execution_count": 9,
   "metadata": {},
   "outputs": [
    {
     "name": "stdout",
     "output_type": "stream",
     "text": [
      "8976287.12 1750.9518513083106\n"
     ]
    }
   ],
   "source": [
    "num_unique_pairs = np.array(num_unique_pairs)\n",
    "print(num_unique_pairs.mean(), num_unique_pairs.std())"
   ]
  },
  {
   "cell_type": "code",
   "execution_count": null,
   "metadata": {},
   "outputs": [],
   "source": [
    "# comp_simulated = pd.read_pickle(\"./comp.pkl\")\n",
    "# comp_simulated.pair_df = pair_df_simulated\n",
    "# mat_simulated = comp_simulated.generate_adjacency_matrix(threshold=0)\n",
    "# with open(\"./mat_simulated.pkl\", \"wb\") as f:\n",
    "#     pickle.dump(mat_simulated, f)"
   ]
  },
  {
   "cell_type": "code",
   "execution_count": null,
   "metadata": {},
   "outputs": [
    {
     "data": {
      "text/plain": [
       "'147,047         469,833'"
      ]
     },
     "execution_count": 14,
     "metadata": {},
     "output_type": "execute_result"
    }
   ],
   "source": [
    "# f\"{len(comp_observed.child_df) :,}         {len(comp_observed.parent_df):,}\"\n",
    "\"147,047         469,833\"\n",
    "\n",
    "# f\"{len(comp_observed.child_df) * len(comp_observed.parent_df):,}\"\n",
    "\"69,087,533,151\"\n",
    "\n",
    "4423676 / 69087533151 * 100\n",
    "0.006403001812688067"
   ]
  },
  {
   "cell_type": "code",
   "execution_count": 117,
   "metadata": {},
   "outputs": [],
   "source": [
    "mat_simulated = pd.read_pickle(\"./mat_simulated.pkl\")\n",
    "mat_observed = pd.read_pickle(\"./matrix.pkl\")"
   ]
  },
  {
   "cell_type": "markdown",
   "metadata": {},
   "source": [
    "```python\n",
    "comp_observed.pair_df\n",
    "```\n",
    "![](https://i.imgur.com/4tDU93j.png)"
   ]
  },
  {
   "cell_type": "markdown",
   "metadata": {},
   "source": [
    "```\n",
    "pair_df_simulated.sort_values(by=\"freq\", ascending=False)\n",
    "```\n",
    "![](https://i.imgur.com/djuMtj4.png)`"
   ]
  },
  {
   "cell_type": "code",
   "execution_count": null,
   "metadata": {},
   "outputs": [
    {
     "data": {
      "text/plain": [
       "'8,977,777'"
      ]
     },
     "execution_count": 17,
     "metadata": {},
     "output_type": "execute_result"
    }
   ],
   "source": [
    "# f\"{len(pair_df_simulated):,}\"  # b\n",
    "# '8,977,777'\n",
    "# f'{sum(pair_df_simulated[\"freq\"]):,}'  # N\n",
    "# '25,178,311'"
   ]
  },
  {
   "cell_type": "code",
   "execution_count": 118,
   "metadata": {},
   "outputs": [
    {
     "data": {
      "text/plain": [
       "63780"
      ]
     },
     "execution_count": 118,
     "metadata": {},
     "output_type": "execute_result"
    }
   ],
   "source": [
    "obs = mat_observed[:1000, :1000].todense()\n",
    "sim = mat_simulated[:1000, :1000].todense()\n",
    "max_value = max(\n",
    "    max(obs.reshape(-1)),\n",
    "    max(sim.reshape(-1)),\n",
    ")\n",
    "max_value"
   ]
  },
  {
   "cell_type": "code",
   "execution_count": 121,
   "metadata": {},
   "outputs": [
    {
     "data": {
      "text/plain": [
       "'11,763,491'"
      ]
     },
     "execution_count": 121,
     "metadata": {},
     "output_type": "execute_result"
    }
   ],
   "source": [
    "f\"{obs.sum():,}\""
   ]
  },
  {
   "cell_type": "code",
   "execution_count": 110,
   "metadata": {},
   "outputs": [],
   "source": [
    "def plot_matrix(mat, title=None, vmin=None, vmax=None, lognorm=False):\n",
    "    f, ax = plt.subplots(figsize=(7, 7))\n",
    "    im = ax.matshow(\n",
    "        mat,\n",
    "        aspect=\"equal\",\n",
    "        interpolation=\"none\",\n",
    "        origin=\"lower\",\n",
    "        cmap=\"Reds\",\n",
    "        norm=LogNorm(vmin=vmin, vmax=vmax) if lognorm else None,\n",
    "    )\n",
    "    # add axis labels\n",
    "    ax.set_xlabel(\"Adjectives\")\n",
    "    ax.set_ylabel(\"Nouns\")\n",
    "    ax.set_title(title)\n",
    "    # move xticks to lower part\n",
    "    ax.xaxis.tick_bottom()\n",
    "    f.colorbar(im)\n",
    "\n",
    "    plt.show()\n",
    "\n",
    "    return f, ax"
   ]
  },
  {
   "cell_type": "code",
   "execution_count": 39,
   "metadata": {},
   "outputs": [],
   "source": [
    "obs_norm = minmax(obs)\n",
    "sim_norm = minmax(sim)"
   ]
  },
  {
   "cell_type": "code",
   "execution_count": 111,
   "metadata": {},
   "outputs": [
    {
     "ename": "NameError",
     "evalue": "name 'obs_norm' is not defined",
     "output_type": "error",
     "traceback": [
      "\u001b[0;31m---------------------------------------------------------------------------\u001b[0m",
      "\u001b[0;31mNameError\u001b[0m                                 Traceback (most recent call last)",
      "Input \u001b[0;32mIn [111]\u001b[0m, in \u001b[0;36m<cell line: 1>\u001b[0;34m()\u001b[0m\n\u001b[1;32m      1\u001b[0m plot_matrix(\n\u001b[0;32m----> 2\u001b[0m     \u001b[43mobs_norm\u001b[49m,\n\u001b[1;32m      3\u001b[0m     vmin\u001b[38;5;241m=\u001b[39m\u001b[38;5;241m1e-5\u001b[39m,\n\u001b[1;32m      4\u001b[0m     title\u001b[38;5;241m=\u001b[39m\u001b[38;5;124m\"\u001b[39m\u001b[38;5;124mCOCA\u001b[39m\u001b[38;5;124m\"\u001b[39m,\n\u001b[1;32m      5\u001b[0m )\n",
      "\u001b[0;31mNameError\u001b[0m: name 'obs_norm' is not defined"
     ]
    }
   ],
   "source": [
    "plot_matrix(\n",
    "    obs_norm,\n",
    "    vmin=1e-5,\n",
    "    title=\"COCA\",\n",
    ")"
   ]
  },
  {
   "cell_type": "code",
   "execution_count": 112,
   "metadata": {},
   "outputs": [
    {
     "ename": "NameError",
     "evalue": "name 'sim_norm' is not defined",
     "output_type": "error",
     "traceback": [
      "\u001b[0;31m---------------------------------------------------------------------------\u001b[0m",
      "\u001b[0;31mNameError\u001b[0m                                 Traceback (most recent call last)",
      "Input \u001b[0;32mIn [112]\u001b[0m, in \u001b[0;36m<cell line: 1>\u001b[0;34m()\u001b[0m\n\u001b[1;32m      1\u001b[0m plot_matrix(\n\u001b[0;32m----> 2\u001b[0m     \u001b[43msim_norm\u001b[49m,\n\u001b[1;32m      3\u001b[0m     vmin\u001b[38;5;241m=\u001b[39m\u001b[38;5;241m1e-5\u001b[39m,\n\u001b[1;32m      4\u001b[0m     title\u001b[38;5;241m=\u001b[39m\u001b[38;5;124m\"\u001b[39m\u001b[38;5;124mMaxComb\u001b[39m\u001b[38;5;124m\"\u001b[39m,\n\u001b[1;32m      5\u001b[0m )\n",
      "\u001b[0;31mNameError\u001b[0m: name 'sim_norm' is not defined"
     ]
    }
   ],
   "source": [
    "plot_matrix(\n",
    "    sim_norm,\n",
    "    vmin=1e-5,\n",
    "    title=\"MaxComb\",\n",
    ")"
   ]
  },
  {
   "cell_type": "code",
   "execution_count": 3,
   "metadata": {},
   "outputs": [],
   "source": [
    "mat_mpt30b = pd.read_pickle(\"./mat_mpt30b.pkl\")\n",
    "# mat_mpt30b_hybrid = pd.read_pickle(\"./mat_mpt30b_hybrid.pkl\")\n",
    "# mat_mpt30b_bayes = pd.read_pickle(\"./mat_mpt30b_bayes.pkl\")"
   ]
  },
  {
   "cell_type": "code",
   "execution_count": 44,
   "metadata": {},
   "outputs": [],
   "source": [
    "# mat_mpt30b_norm = minmax(np.exp(mat_mpt30b))\n",
    "# mat_mpt30b_hybrid_norm = minmax(np.exp(mat_mpt30b_hybrid))\n",
    "# mat_mpt30b_bayes_norm = minmax(np.exp(mat_mpt30b_bayes))"
   ]
  },
  {
   "cell_type": "code",
   "execution_count": 114,
   "metadata": {},
   "outputs": [
    {
     "data": {
      "image/png": "[encoded data removed]",
      "text/plain": [
       "<Figure size 700x700 with 2 Axes>"
      ]
     },
     "metadata": {},
     "output_type": "display_data"
    },
    {
     "data": {
      "text/plain": [
       "(<Figure size 700x700 with 2 Axes>,\n",
       " <AxesSubplot:title={'center':'MPT-30B'}, xlabel='Adjectives', ylabel='Nouns'>)"
      ]
     },
     "execution_count": 114,
     "metadata": {},
     "output_type": "execute_result"
    }
   ],
   "source": [
    "plot_matrix(\n",
    "    np.exp(mat_mpt30b_hybrid_norm),\n",
    "    # vmax=10e-2,\n",
    "    vmin=1e-5,\n",
    "    title=\"MPT-30B\",\n",
    ")"
   ]
  },
  {
   "cell_type": "markdown",
   "metadata": {},
   "source": [
    "## Joint entropy"
   ]
  },
  {
   "cell_type": "code",
   "execution_count": null,
   "metadata": {},
   "outputs": [],
   "source": []
  },
  {
   "cell_type": "code",
   "execution_count": 18,
   "metadata": {},
   "outputs": [],
   "source": [
    "joint = pd.read_pickle(\"./joint1000.pkl\")\n",
    "cond = joint.conditionalize(axis=0)"
   ]
  },
  {
   "cell_type": "code",
   "execution_count": 29,
   "metadata": {},
   "outputs": [
    {
     "data": {
      "text/plain": [
       "(0.0, 1.0337832355134364, 5.561775927755333)"
      ]
     },
     "execution_count": 29,
     "metadata": {},
     "output_type": "execute_result"
    }
   ],
   "source": [
    "logsumexp(joint.joint), logsumexp(cond.joint), logsumexp(mat_mpt30b)"
   ]
  },
  {
   "cell_type": "code",
   "execution_count": 64,
   "metadata": {},
   "outputs": [
    {
     "data": {
      "text/plain": [
       "(0.0, 0.0)"
      ]
     },
     "execution_count": 64,
     "metadata": {},
     "output_type": "execute_result"
    }
   ],
   "source": [
    "cond.joint = mat_mpt30b  # let's plug in the conditional distribution from MPT-30B\n",
    "cond = cond.conditionalize(axis=0)  # normalize the conditionals to make them proper\n",
    "cond.joint += joint.get_marginal_of_axis(0)[\n",
    "    :, None\n",
    "]  # multiple COCA adjective marginals to conditionals\n",
    "cond.joint -= logsumexp(cond.joint)  # normalize the joint distribution\n",
    "logsumexp(cond.joint), logsumexp(joint.joint)"
   ]
  },
  {
   "cell_type": "code",
   "execution_count": 88,
   "metadata": {},
   "outputs": [
    {
     "data": {
      "text/plain": [
       "0.0"
      ]
     },
     "execution_count": 88,
     "metadata": {},
     "output_type": "execute_result"
    }
   ],
   "source": [
    "sim = joint.conditionalize(\n",
    "    axis=0\n",
    ")  # literally just to make a copy. i'm going to replace the matrix\n",
    "sim.joint = np.add.outer(\n",
    "    joint.get_marginal_of_axis(0),\n",
    "    joint.get_marginal_of_axis(1),\n",
    ")\n",
    "sim.joint -= logsumexp(sim.joint.reshape(-1))\n",
    "logsumexp(sim.joint)"
   ]
  },
  {
   "cell_type": "code",
   "execution_count": 89,
   "metadata": {},
   "outputs": [
    {
     "data": {
      "image/png": "[encoded data removed]",
      "text/plain": [
       "<Figure size 640x480 with 1 Axes>"
      ]
     },
     "metadata": {},
     "output_type": "display_data"
    }
   ],
   "source": [
    "plt.plot(\n",
    "    np.cumsum(np.exp(cond.get_marginal_of_axis(0))) + 0.01,\n",
    "    \"k-.\",\n",
    "    label=\"MPT-30B P(N|A)P(A)\",\n",
    ")\n",
    "plt.plot(\n",
    "    np.cumsum(np.exp(joint.get_marginal_of_axis(0))), \"b--\", label=\"COCA P(N|A)P(A)\"\n",
    ")\n",
    "plt.plot(\n",
    "    np.cumsum(np.exp(joint.get_marginal_of_axis(0))) + 0.02,\n",
    "    \"y--\",\n",
    "    label=\"MaxComb P(N|A)P(A)\",\n",
    ")\n",
    "plt.legend()\n",
    "plt.show()"
   ]
  },
  {
   "cell_type": "code",
   "execution_count": 102,
   "metadata": {},
   "outputs": [],
   "source": [
    "# E_X = entropy(adj_freqs)\n",
    "# E_Y = entropy(noun_freqs)\n",
    "\n",
    "\n",
    "def compute_entropy(mat, kind, sparse=False):\n",
    "    E_X = entropy(mat.sum(axis=1))\n",
    "    E_Y = entropy(mat.sum(axis=0))\n",
    "\n",
    "    E_X_Y = entropy(mat.reshape(-1))\n",
    "    I_X_Y = E_X + E_Y - E_X_Y\n",
    "\n",
    "    print(\n",
    "        f\"E_X_{kind}: {E_X:.3f}, E_Y_{kind}: {E_Y:.3f}, E_X_Y_{kind}: {E_X_Y:.3f}\",\n",
    "        \"\\n\",\n",
    "        f\"I_X_Y_{kind} = E_X + E_Y - E_X_Y: {I_X_Y:.3f}\\n\",\n",
    "    )\n",
    "    return E_X, E_Y, E_X_Y, I_X_Y"
   ]
  },
  {
   "cell_type": "code",
   "execution_count": 103,
   "metadata": {},
   "outputs": [],
   "source": [
    "entropies = []"
   ]
  },
  {
   "cell_type": "code",
   "execution_count": 104,
   "metadata": {},
   "outputs": [
    {
     "name": "stdout",
     "output_type": "stream",
     "text": [
      "E_X_observed: 5.875, E_Y_observed: 6.421, E_X_Y_observed: 10.624 \n",
      " I_X_Y_observed = E_X + E_Y - E_X_Y: 1.672\n",
      "\n"
     ]
    }
   ],
   "source": [
    "ex, ey, exy, ixy = compute_entropy(np.exp(joint.joint), \"observed\", sparse=True)\n",
    "entropies.append(\n",
    "    {\n",
    "        \"kind\": \"COCA\",\n",
    "        \"E_X\": ex,\n",
    "        \"E_Y\": ey,\n",
    "        \"E_X_Y\": exy,\n",
    "        \"I_X_Y\": ixy,\n",
    "    }\n",
    ")"
   ]
  },
  {
   "cell_type": "code",
   "execution_count": 105,
   "metadata": {},
   "outputs": [
    {
     "name": "stdout",
     "output_type": "stream",
     "text": [
      "E_X_simulated: 5.875, E_Y_simulated: 6.421, E_X_Y_simulated: 12.296 \n",
      " I_X_Y_simulated = E_X + E_Y - E_X_Y: 0.000\n",
      "\n"
     ]
    }
   ],
   "source": [
    "ex, ey, exy, ixy = compute_entropy(\n",
    "    np.exp(sim.joint),\n",
    "    \"simulated\",\n",
    ")\n",
    "entropies.append(\n",
    "    {\n",
    "        \"kind\": \"MaxComb\",\n",
    "        \"E_X\": ex,\n",
    "        \"E_Y\": ey,\n",
    "        \"E_X_Y\": exy,\n",
    "        \"I_X_Y\": ixy,\n",
    "    }\n",
    ")"
   ]
  },
  {
   "cell_type": "code",
   "execution_count": 106,
   "metadata": {},
   "outputs": [
    {
     "name": "stdout",
     "output_type": "stream",
     "text": [
      "E_X_MPT: 5.875, E_Y_MPT: 6.252, E_X_Y_MPT: 10.344 \n",
      " I_X_Y_MPT = E_X + E_Y - E_X_Y: 1.783\n",
      "\n"
     ]
    }
   ],
   "source": [
    "ex, ey, exy, ixy = compute_entropy(np.exp(cond.joint), \"MPT\")\n",
    "entropies.append(\n",
    "    {\n",
    "        \"kind\": \"MPT-30B\",\n",
    "        \"E_X\": ex,\n",
    "        \"E_Y\": ey,\n",
    "        \"E_X_Y\": exy,\n",
    "        \"I_X_Y\": ixy,\n",
    "    }\n",
    ")"
   ]
  },
  {
   "cell_type": "code",
   "execution_count": 107,
   "metadata": {},
   "outputs": [
    {
     "data": {
      "text/html": [
       "<div>\n",
       "<style scoped>\n",
       "    .dataframe tbody tr th:only-of-type {\n",
       "        vertical-align: middle;\n",
       "    }\n",
       "\n",
       "    .dataframe tbody tr th {\n",
       "        vertical-align: top;\n",
       "    }\n",
       "\n",
       "    .dataframe thead th {\n",
       "        text-align: right;\n",
       "    }\n",
       "</style>\n",
       "<table border=\"1\" class=\"dataframe\">\n",
       "  <thead>\n",
       "    <tr style=\"text-align: right;\">\n",
       "      <th></th>\n",
       "      <th>kind</th>\n",
       "      <th>E_X</th>\n",
       "      <th>E_Y</th>\n",
       "      <th>E_X_Y</th>\n",
       "      <th>I_X_Y</th>\n",
       "    </tr>\n",
       "  </thead>\n",
       "  <tbody>\n",
       "    <tr>\n",
       "      <th>0</th>\n",
       "      <td>COCA</td>\n",
       "      <td>5.875245</td>\n",
       "      <td>6.420858</td>\n",
       "      <td>10.623823</td>\n",
       "      <td>1.672280e+00</td>\n",
       "    </tr>\n",
       "    <tr>\n",
       "      <th>1</th>\n",
       "      <td>MaxComb</td>\n",
       "      <td>5.875245</td>\n",
       "      <td>6.420858</td>\n",
       "      <td>12.296103</td>\n",
       "      <td>3.552714e-15</td>\n",
       "    </tr>\n",
       "    <tr>\n",
       "      <th>2</th>\n",
       "      <td>MPT-30B</td>\n",
       "      <td>5.875245</td>\n",
       "      <td>6.251535</td>\n",
       "      <td>10.343513</td>\n",
       "      <td>1.783266e+00</td>\n",
       "    </tr>\n",
       "  </tbody>\n",
       "</table>\n",
       "</div>"
      ],
      "text/plain": [
       "      kind       E_X       E_Y      E_X_Y         I_X_Y\n",
       "0     COCA  5.875245  6.420858  10.623823  1.672280e+00\n",
       "1  MaxComb  5.875245  6.420858  12.296103  3.552714e-15\n",
       "2  MPT-30B  5.875245  6.251535  10.343513  1.783266e+00"
      ]
     },
     "execution_count": 107,
     "metadata": {},
     "output_type": "execute_result"
    }
   ],
   "source": [
    "ent = pd.DataFrame(entropies)\n",
    "ent"
   ]
  },
  {
   "cell_type": "code",
   "execution_count": 108,
   "metadata": {},
   "outputs": [
    {
     "name": "stdout",
     "output_type": "stream",
     "text": [
      "\\begin{tabular}{lrrrr}\n",
      "\\toprule\n",
      "   kind &   E\\_X &   E\\_Y &  E\\_X\\_Y &  I\\_X\\_Y \\\\\n",
      "\\midrule\n",
      "   COCA & 5.875 & 6.421 & 10.624 &  1.672 \\\\\n",
      "MaxComb & 5.875 & 6.421 & 12.296 &  0.000 \\\\\n",
      "MPT-30B & 5.875 & 6.252 & 10.344 &  1.783 \\\\\n",
      "\\bottomrule\n",
      "\\end{tabular}\n",
      "\n"
     ]
    },
    {
     "name": "stderr",
     "output_type": "stream",
     "text": [
      "/tmp/ipykernel_190053/1249619511.py:1: FutureWarning: In future versions `DataFrame.to_latex` is expected to utilise the base implementation of `Styler.to_latex` for formatting and rendering. The arguments signature may therefore change. It is recommended instead to use `DataFrame.style.to_latex` which also contains additional functionality.\n",
      "  print(ent.to_latex(float_format=\"%.3f\", index=False))\n"
     ]
    }
   ],
   "source": [
    "print(ent.to_latex(float_format=\"%.3f\", index=False))"
   ]
  },
  {
   "cell_type": "code",
   "execution_count": 132,
   "metadata": {},
   "outputs": [
    {
     "data": {
      "image/png": "[encoded data removed]",
      "text/plain": [
       "<Figure size 300x300 with 1 Axes>"
      ]
     },
     "metadata": {},
     "output_type": "display_data"
    }
   ],
   "source": [
    "f, ax = plt.subplots(figsize=(3, 3))\n",
    "sns.barplot(\n",
    "    data=ent,\n",
    "    x=\"kind\",\n",
    "    y=\"I_X_Y\",\n",
    ")\n",
    "ax.set_ylabel(\"Mutual information\")\n",
    "ax.set_xlabel(\"Compositional space\")\n",
    "\n",
    "plt.show()"
   ]
  }
 ],
 "metadata": {
  "kernelspec": {
   "display_name": "Python 3.9.7 64-bit ('composlang')",
   "language": "python",
   "name": "python3"
  },
  "language_info": {
   "codemirror_mode": {
    "name": "ipython",
    "version": 3
   },
   "file_extension": ".py",
   "mimetype": "text/x-python",
   "name": "python",
   "nbconvert_exporter": "python",
   "pygments_lexer": "ipython3",
   "version": "3.9.5"
  },
  "orig_nbformat": 4,
  "vscode": {
   "interpreter": {
    "hash": "a606eb453b317f661f917f3ca1520e5144be4b2b29f8fa9faa8135b8ac14946a"
   }
  }
 },
 "nbformat": 4,
 "nbformat_minor": 2
}
