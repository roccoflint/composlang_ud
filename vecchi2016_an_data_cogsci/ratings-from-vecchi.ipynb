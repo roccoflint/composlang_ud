{
 "cells": [
  {
   "cell_type": "code",
   "execution_count": 8,
   "metadata": {},
   "outputs": [],
   "source": [
    "import pandas as pd\n",
    "from collections import defaultdict"
   ]
  },
  {
   "cell_type": "code",
   "execution_count": 7,
   "metadata": {},
   "outputs": [
    {
     "data": {
      "text/plain": [
       "[{'which_makes_more_sense': 2,\n",
       "  'an1': 'terrorist room',\n",
       "  'an2': 'corporate repayment'},\n",
       " {'which_makes_more_sense': 2,\n",
       "  'an1': 'terrorist room',\n",
       "  'an2': 'corporate repayment'},\n",
       " {'which_makes_more_sense': 1,\n",
       "  'an1': 'adjacent flash',\n",
       "  'an2': 'parliamentary harvest'},\n",
       " {'which_makes_more_sense': 1,\n",
       "  'an1': 'adjacent flash',\n",
       "  'an2': 'parliamentary harvest'},\n",
       " {'which_makes_more_sense': 1,\n",
       "  'an1': 'eligible co-ordinator',\n",
       "  'an2': 'international prince'}]"
      ]
     },
     "execution_count": 7,
     "metadata": {},
     "output_type": "execute_result"
    }
   ],
   "source": [
    "annotations = pd.read_csv(\"./annotations.csv\")[\n",
    "    [\"which_makes_more_sense\", \"an1\", \"an2\"]\n",
    "].to_dict(\"records\")\n",
    "annotations[:5]"
   ]
  },
  {
   "cell_type": "code",
   "execution_count": 13,
   "metadata": {},
   "outputs": [
    {
     "data": {
      "text/html": [
       "<div>\n",
       "<style scoped>\n",
       "    .dataframe tbody tr th:only-of-type {\n",
       "        vertical-align: middle;\n",
       "    }\n",
       "\n",
       "    .dataframe tbody tr th {\n",
       "        vertical-align: top;\n",
       "    }\n",
       "\n",
       "    .dataframe thead th {\n",
       "        text-align: right;\n",
       "    }\n",
       "</style>\n",
       "<table border=\"1\" class=\"dataframe\">\n",
       "  <thead>\n",
       "    <tr style=\"text-align: right;\">\n",
       "      <th></th>\n",
       "      <th>item</th>\n",
       "      <th>score</th>\n",
       "      <th>total_occ</th>\n",
       "      <th>preferred_occ</th>\n",
       "    </tr>\n",
       "  </thead>\n",
       "  <tbody>\n",
       "    <tr>\n",
       "      <th>0</th>\n",
       "      <td>terrorist room</td>\n",
       "      <td>0.333333</td>\n",
       "      <td>9</td>\n",
       "      <td>3</td>\n",
       "    </tr>\n",
       "    <tr>\n",
       "      <th>1</th>\n",
       "      <td>corporate repayment</td>\n",
       "      <td>1.000000</td>\n",
       "      <td>11</td>\n",
       "      <td>11</td>\n",
       "    </tr>\n",
       "    <tr>\n",
       "      <th>2</th>\n",
       "      <td>adjacent flash</td>\n",
       "      <td>0.500000</td>\n",
       "      <td>12</td>\n",
       "      <td>6</td>\n",
       "    </tr>\n",
       "    <tr>\n",
       "      <th>3</th>\n",
       "      <td>parliamentary harvest</td>\n",
       "      <td>0.200000</td>\n",
       "      <td>10</td>\n",
       "      <td>2</td>\n",
       "    </tr>\n",
       "    <tr>\n",
       "      <th>4</th>\n",
       "      <td>eligible co-ordinator</td>\n",
       "      <td>0.700000</td>\n",
       "      <td>10</td>\n",
       "      <td>7</td>\n",
       "    </tr>\n",
       "    <tr>\n",
       "      <th>...</th>\n",
       "      <td>...</td>\n",
       "      <td>...</td>\n",
       "      <td>...</td>\n",
       "      <td>...</td>\n",
       "    </tr>\n",
       "    <tr>\n",
       "      <th>27515</th>\n",
       "      <td>combined pulse</td>\n",
       "      <td>0.444444</td>\n",
       "      <td>9</td>\n",
       "      <td>4</td>\n",
       "    </tr>\n",
       "    <tr>\n",
       "      <th>27516</th>\n",
       "      <td>Chinese eligibility</td>\n",
       "      <td>0.777778</td>\n",
       "      <td>9</td>\n",
       "      <td>7</td>\n",
       "    </tr>\n",
       "    <tr>\n",
       "      <th>27517</th>\n",
       "      <td>linear harbour</td>\n",
       "      <td>0.625000</td>\n",
       "      <td>8</td>\n",
       "      <td>5</td>\n",
       "    </tr>\n",
       "    <tr>\n",
       "      <th>27518</th>\n",
       "      <td>slight socialism</td>\n",
       "      <td>1.000000</td>\n",
       "      <td>6</td>\n",
       "      <td>6</td>\n",
       "    </tr>\n",
       "    <tr>\n",
       "      <th>27519</th>\n",
       "      <td>online wardrobe</td>\n",
       "      <td>0.833333</td>\n",
       "      <td>6</td>\n",
       "      <td>5</td>\n",
       "    </tr>\n",
       "  </tbody>\n",
       "</table>\n",
       "<p>27520 rows × 4 columns</p>\n",
       "</div>"
      ],
      "text/plain": [
       "                        item     score  total_occ  preferred_occ\n",
       "0             terrorist room  0.333333          9              3\n",
       "1        corporate repayment  1.000000         11             11\n",
       "2             adjacent flash  0.500000         12              6\n",
       "3      parliamentary harvest  0.200000         10              2\n",
       "4      eligible co-ordinator  0.700000         10              7\n",
       "...                      ...       ...        ...            ...\n",
       "27515         combined pulse  0.444444          9              4\n",
       "27516    Chinese eligibility  0.777778          9              7\n",
       "27517         linear harbour  0.625000          8              5\n",
       "27518       slight socialism  1.000000          6              6\n",
       "27519        online wardrobe  0.833333          6              5\n",
       "\n",
       "[27520 rows x 4 columns]"
      ]
     },
     "execution_count": 13,
     "metadata": {},
     "output_type": "execute_result"
    }
   ],
   "source": [
    "total_occ = defaultdict(int)\n",
    "preferred_occ = defaultdict(int)\n",
    "\n",
    "for a in annotations:\n",
    "    total_occ[a[\"an1\"]] += 1\n",
    "    total_occ[a[\"an2\"]] += 1\n",
    "    preferred_occ[a[f\"an{a['which_makes_more_sense']}\"]] += 1\n",
    "\n",
    "scores = {k: preferred_occ[k] / total_occ[k] for k in total_occ}\n",
    "scores = pd.DataFrame(scores.items(), columns=[\"item\", \"score\"])\n",
    "# for each row in scores, also add column values for total_occ and preferred_occ\n",
    "scores = scores.assign(\n",
    "    total_occ=scores[\"item\"].map(total_occ),\n",
    "    preferred_occ=scores[\"item\"].map(preferred_occ),\n",
    ")\n",
    "scores"
   ]
  },
  {
   "cell_type": "code",
   "execution_count": 18,
   "metadata": {},
   "outputs": [
    {
     "data": {
      "text/html": [
       "<div>\n",
       "<style scoped>\n",
       "    .dataframe tbody tr th:only-of-type {\n",
       "        vertical-align: middle;\n",
       "    }\n",
       "\n",
       "    .dataframe tbody tr th {\n",
       "        vertical-align: top;\n",
       "    }\n",
       "\n",
       "    .dataframe thead th {\n",
       "        text-align: right;\n",
       "    }\n",
       "</style>\n",
       "<table border=\"1\" class=\"dataframe\">\n",
       "  <thead>\n",
       "    <tr style=\"text-align: right;\">\n",
       "      <th></th>\n",
       "      <th>item</th>\n",
       "      <th>score</th>\n",
       "      <th>total_occ</th>\n",
       "      <th>preferred_occ</th>\n",
       "    </tr>\n",
       "  </thead>\n",
       "  <tbody>\n",
       "    <tr>\n",
       "      <th>8555</th>\n",
       "      <td>electoral mind</td>\n",
       "      <td>0.300000</td>\n",
       "      <td>10</td>\n",
       "      <td>3</td>\n",
       "    </tr>\n",
       "    <tr>\n",
       "      <th>5734</th>\n",
       "      <td>equal petition</td>\n",
       "      <td>0.900000</td>\n",
       "      <td>10</td>\n",
       "      <td>9</td>\n",
       "    </tr>\n",
       "    <tr>\n",
       "      <th>16778</th>\n",
       "      <td>selected aftermath</td>\n",
       "      <td>0.200000</td>\n",
       "      <td>10</td>\n",
       "      <td>2</td>\n",
       "    </tr>\n",
       "    <tr>\n",
       "      <th>2089</th>\n",
       "      <td>structural individual</td>\n",
       "      <td>0.300000</td>\n",
       "      <td>10</td>\n",
       "      <td>3</td>\n",
       "    </tr>\n",
       "    <tr>\n",
       "      <th>26164</th>\n",
       "      <td>environmental wake</td>\n",
       "      <td>0.444444</td>\n",
       "      <td>9</td>\n",
       "      <td>4</td>\n",
       "    </tr>\n",
       "    <tr>\n",
       "      <th>4625</th>\n",
       "      <td>guilty shadow</td>\n",
       "      <td>0.444444</td>\n",
       "      <td>9</td>\n",
       "      <td>4</td>\n",
       "    </tr>\n",
       "    <tr>\n",
       "      <th>19073</th>\n",
       "      <td>intensive novel</td>\n",
       "      <td>0.666667</td>\n",
       "      <td>9</td>\n",
       "      <td>6</td>\n",
       "    </tr>\n",
       "    <tr>\n",
       "      <th>15999</th>\n",
       "      <td>amazing manufacture</td>\n",
       "      <td>0.700000</td>\n",
       "      <td>10</td>\n",
       "      <td>7</td>\n",
       "    </tr>\n",
       "    <tr>\n",
       "      <th>25991</th>\n",
       "      <td>surprising sandwich</td>\n",
       "      <td>0.600000</td>\n",
       "      <td>10</td>\n",
       "      <td>6</td>\n",
       "    </tr>\n",
       "    <tr>\n",
       "      <th>3003</th>\n",
       "      <td>back multitude</td>\n",
       "      <td>0.100000</td>\n",
       "      <td>10</td>\n",
       "      <td>1</td>\n",
       "    </tr>\n",
       "  </tbody>\n",
       "</table>\n",
       "</div>"
      ],
      "text/plain": [
       "                        item     score  total_occ  preferred_occ\n",
       "8555          electoral mind  0.300000         10              3\n",
       "5734          equal petition  0.900000         10              9\n",
       "16778     selected aftermath  0.200000         10              2\n",
       "2089   structural individual  0.300000         10              3\n",
       "26164     environmental wake  0.444444          9              4\n",
       "4625           guilty shadow  0.444444          9              4\n",
       "19073        intensive novel  0.666667          9              6\n",
       "15999    amazing manufacture  0.700000         10              7\n",
       "25991    surprising sandwich  0.600000         10              6\n",
       "3003          back multitude  0.100000         10              1"
      ]
     },
     "execution_count": 18,
     "metadata": {},
     "output_type": "execute_result"
    }
   ],
   "source": [
    "scores.sort_values(\"score\", ascending=False).sample(10)"
   ]
  },
  {
   "cell_type": "markdown",
   "metadata": {},
   "source": [
    "### Attempt replicating some stuff from Vecchi:\n",
    "![](https://i.imgur.com/NgVCPjJ.png)"
   ]
  },
  {
   "cell_type": "code",
   "execution_count": 27,
   "metadata": {},
   "outputs": [
    {
     "data": {
      "text/plain": [
       "<AxesSubplot:title={'center':'Distribution of composite acceptability scores'}, ylabel='Frequency'>"
      ]
     },
     "execution_count": 27,
     "metadata": {},
     "output_type": "execute_result"
    },
    {
     "data": {
      "image/png": "[encoded data removed]",
      "text/plain": [
       "<Figure size 640x480 with 1 Axes>"
      ]
     },
     "metadata": {},
     "output_type": "display_data"
    }
   ],
   "source": [
    "scores.score.plot.hist(bins=10, title=\"Distribution of composite acceptability scores\")"
   ]
  },
  {
   "cell_type": "code",
   "execution_count": 28,
   "metadata": {},
   "outputs": [],
   "source": [
    "scores.to_csv(\"./vecchi-scores.csv\", index=False)"
   ]
  }
 ],
 "metadata": {
  "kernelspec": {
   "display_name": "composlang-iD_d0IlX-py3.9",
   "language": "python",
   "name": "python3"
  },
  "language_info": {
   "codemirror_mode": {
    "name": "ipython",
    "version": 3
   },
   "file_extension": ".py",
   "mimetype": "text/x-python",
   "name": "python",
   "nbconvert_exporter": "python",
   "pygments_lexer": "ipython3",
   "version": "3.9.5"
  }
 },
 "nbformat": 4,
 "nbformat_minor": 2
}
